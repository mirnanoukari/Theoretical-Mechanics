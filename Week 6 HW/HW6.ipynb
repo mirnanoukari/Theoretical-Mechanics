{
  "nbformat": 4,
  "nbformat_minor": 0,
  "metadata": {
    "colab": {
      "name": "HW6.ipynb",
      "provenance": [],
      "collapsed_sections": [],
      "authorship_tag": "ABX9TyPHuZO4xjr44gCjffE4cEqu",
      "include_colab_link": true
    },
    "kernelspec": {
      "name": "python3",
      "display_name": "Python 3"
    },
    "language_info": {
      "name": "python"
    }
  },
  "cells": [
    {
      "cell_type": "markdown",
      "metadata": {
        "id": "view-in-github",
        "colab_type": "text"
      },
      "source": [
        "<a href=\"https://colab.research.google.com/github/mirnanoukari/Theoretical-Mechanics/blob/main/Week%206%20HW/HW6.ipynb\" target=\"_parent\"><img src=\"https://colab.research.google.com/assets/colab-badge.svg\" alt=\"Open In Colab\"/></a>"
      ]
    },
    {
      "cell_type": "markdown",
      "metadata": {
        "id": "vOv4N_xARmSA"
      },
      "source": [
        "# Theoretical Mechanics\n",
        "## Homework 6\n",
        "### Mirna Alnoukari"
      ]
    },
    {
      "cell_type": "code",
      "metadata": {
        "id": "o5Mqnoo5RK1h"
      },
      "source": [
        "import numpy as np\n",
        "import matplotlib.pyplot as plt\n",
        "import sys\n",
        "from math import sin, cos, tan, sqrt, asin, acos,pi, exp\n",
        "import matplotlib.pyplot as plt"
      ],
      "execution_count": 5,
      "outputs": []
    },
    {
      "cell_type": "code",
      "metadata": {
        "id": "TFNBRVILQUCA"
      },
      "source": [
        "def to_rad(theta):\n",
        "    return theta * np.pi / 180\n",
        "\n",
        "def task():\n",
        "    m_a = 1\n",
        "    m_b = 3\n",
        "    m_d = 20\n",
        "    R_b = 20\n",
        "    R_d = 20\n",
        "    i_bx = 18\n",
        "    r_b = 16\n",
        "    fk = 64\n",
        "    phi = 0.6\n",
        "    g = 9.8\n",
        "\n",
        "    ground_height = 10\n",
        "    v_a = []\n",
        "    s_all = []\n",
        "    for i in range(0,ground_height):\n",
        "        s = ground_height - i\n",
        "        s_all.append(s)\n",
        "        v_a_2 = (m_a*s + m_d*g*((fk+R_b-sqrt(fk**2 - R_b**2))))\n",
        "        v_a_2 /= (0.5*m_a+0.5*m_b*i_bx/r_b**2 + 0.5*m_d*R_b**2/r_b**2 + 0.25*m_d*R_b**2/((R_d**2)*(r_b**2)))\n",
        "        v_a.append(sqrt(v_a_2))\n",
        "    plt.plot(s_all,v_a, label=\"v_A\")\n",
        "    plt.ylabel('V_a -- (m/s)')\n",
        "    plt.xlabel('S -- m')\n",
        "    plt.legend()\n",
        "    plt.show()"
      ],
      "execution_count": 6,
      "outputs": []
    },
    {
      "cell_type": "code",
      "metadata": {
        "colab": {
          "base_uri": "https://localhost:8080/",
          "height": 279
        },
        "id": "lKxp_SPuQlkp",
        "outputId": "b1e4eea9-d573-4226-e218-a3982c90df57"
      },
      "source": [
        "task()"
      ],
      "execution_count": 7,
      "outputs": [
        {
          "output_type": "display_data",
          "data": {
            "image/png": "[encoded data removed]",
            "text/plain": [
              "<Figure size 432x288 with 1 Axes>"
            ]
          },
          "metadata": {
            "needs_background": "light"
          }
        }
      ]
    },
    {
      "cell_type": "code",
      "metadata": {
        "id": "8_ntsPBIRHJ6"
      },
      "source": [
        ""
      ],
      "execution_count": null,
      "outputs": []
    }
  ]
}