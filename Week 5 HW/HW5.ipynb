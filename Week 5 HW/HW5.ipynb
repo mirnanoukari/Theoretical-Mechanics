{
  "nbformat": 4,
  "nbformat_minor": 0,
  "metadata": {
    "colab": {
      "name": "HW5.ipynb",
      "provenance": [],
      "authorship_tag": "ABX9TyN89bFwmv6Ok8rjLG+/RPPd",
      "include_colab_link": true
    },
    "kernelspec": {
      "name": "python3",
      "display_name": "Python 3"
    },
    "language_info": {
      "name": "python"
    }
  },
  "cells": [
    {
      "cell_type": "markdown",
      "metadata": {
        "id": "view-in-github",
        "colab_type": "text"
      },
      "source": [
        "<a href=\"https://colab.research.google.com/github/mirnanoukari/Theoretical-Mechanics/blob/main/Week%205%20HW/HW5.ipynb\" target=\"_parent\"><img src=\"https://colab.research.google.com/assets/colab-badge.svg\" alt=\"Open In Colab\"/></a>"
      ]
    },
    {
      "cell_type": "markdown",
      "metadata": {
        "id": "aAd_PFbhtY0Z"
      },
      "source": [
        "# **Theoretical Mechanics**\n",
        "## Homework 5\n",
        "### Student: Mirna Alnoukari"
      ]
    },
    {
      "cell_type": "markdown",
      "metadata": {
        "id": "YouRCCMetr-u"
      },
      "source": [
        "Importing libraries"
      ]
    },
    {
      "cell_type": "code",
      "metadata": {
        "id": "_FwO0jPitCX8"
      },
      "source": [
        "import numpy as np\n",
        "import matplotlib.pyplot as plt\n",
        "import sys\n",
        "from math import sin, cos, tan, sqrt, asin, acos,pi\n",
        "import scipy.integrate as integrate\n",
        "from scipy.integrate import odeint\n",
        "import matplotlib.pyplot as plt"
      ],
      "execution_count": 13,
      "outputs": []
    },
    {
      "cell_type": "markdown",
      "metadata": {
        "id": "9wtwRt17tyTI"
      },
      "source": [
        "## Task 1"
      ]
    },
    {
      "cell_type": "code",
      "metadata": {
        "id": "-EX8yXlgr-qs"
      },
      "source": [
        "def to_rad(theta):\n",
        "    return theta*np.pi/180\n",
        "\n",
        "def task1():\n",
        "    k = 1.3*10**(-5)\n",
        "    m = 0.0136\n",
        "    g = 9.8\n",
        "\n",
        "    def modelx(v,t):\n",
        "        dvdt = -k * v*v/m\n",
        "        return dvdt\n",
        "\n",
        "\n",
        "    def modely(v,t):\n",
        "        dvdt = -g/m -k * v*v/m\n",
        "        return dvdt\n",
        "\n",
        "    # initial condition\n",
        "    v0 = 870\n",
        "\n",
        "    # time points\n",
        "    total = 20\n",
        "    t = np.linspace(0,total)\n",
        "\n",
        "    # solve ODE\n",
        "    vx = odeint(modelx,v0,t)\n",
        "\n",
        "    vy = odeint(modely,v0,t)\n",
        "\n",
        "    fcx = []\n",
        "    for i in range(len(t)):\n",
        "        fcx.append(-k*vx[i]**2)\n",
        "\n",
        "    fcy = []\n",
        "    for i in range(len(t)):\n",
        "        fcy.append(-k*vy[i]**2)\n",
        "    plt.plot(t,fcx, label=\"Drag in x-axis\")\n",
        "    plt.plot(t,fcy, label=\"Drag in y-axis\")\n",
        "    plt.xlabel('time -- sec')\n",
        "    plt.ylabel('Drag force(t) -- Newton')\n",
        "    plt.legend()\n",
        "    plt.show()"
      ],
      "execution_count": 14,
      "outputs": []
    },
    {
      "cell_type": "code",
      "metadata": {
        "colab": {
          "base_uri": "https://localhost:8080/",
          "height": 344
        },
        "id": "W5WVF9XLsutd",
        "outputId": "470e8c78-5c0e-46cd-a470-9fc3197377fa"
      },
      "source": [
        "task1()"
      ],
      "execution_count": 15,
      "outputs": [
        {
          "output_type": "stream",
          "name": "stderr",
          "text": [
            "/usr/local/lib/python3.7/dist-packages/scipy/integrate/odepack.py:248: ODEintWarning: Excess work done on this call (perhaps wrong Dfun type). Run with full_output = 1 to get quantitative information.\n",
            "  warnings.warn(warning_msg, ODEintWarning)\n"
          ]
        },
        {
          "output_type": "display_data",
          "data": {
            "image/png": "[encoded data removed]",
            "text/plain": [
              "<Figure size 432x288 with 1 Axes>"
            ]
          },
          "metadata": {
            "needs_background": "light"
          }
        }
      ]
    },
    {
      "cell_type": "markdown",
      "metadata": {
        "id": "SYNjN-DDt1uG"
      },
      "source": [
        "## Task 2"
      ]
    },
    {
      "cell_type": "code",
      "metadata": {
        "id": "x6ll8zCKsA7n"
      },
      "source": [
        "def task2():\n",
        "    m = 0.02\n",
        "    w = np.pi\n",
        "    r = 0.5\n",
        "    g = 9.8\n",
        "\n",
        "    def modelx(v,t):\n",
        "        # input x = v[0], \\dot x  = v[1]\n",
        "        # return \\dot x, \\ddot x\n",
        "        return [v[1], 0 +w*w*v[0] + g*cos(w*t)]\n",
        "\n",
        "    # initial condition\n",
        "    v0 = [0,0]\n",
        "\n",
        "    # time points\n",
        "    total = 5\n",
        "    t = np.linspace(0,total)\n",
        "\n",
        "    # solve ODE\n",
        "    vx = odeint(modelx,v0,t)\n",
        "\n",
        "    stop = 0\n",
        "    for i in vx[:,0]:\n",
        "        if(i >= r):\n",
        "            break\n",
        "        stop += 1\n",
        "    normal_force = []\n",
        "    for i,tt in enumerate(t[:stop]):\n",
        "        normal_force.append(m*g*cos(w*tt) - 2*m*w*vx[i,1])\n",
        "    plt.title(\"Relative position X(t)\")\n",
        "    plt.plot(t[:stop],vx[:stop,0], label=\"X\")\n",
        "    plt.plot(t[:stop],vx[:stop,1], label=\"\\dotX\")\n",
        "    plt.xlabel('time -- sec')\n",
        "    plt.ylabel('position -- m')\n",
        "    plt.legend()\n",
        "    plt.show()\n",
        "\n",
        "    plt.title(\"Presure force\")\n",
        "    plt.plot(t[:stop],normal_force, label=\"Force\")\n",
        "    plt.xlabel('time -- sec')\n",
        "    plt.ylabel('Force -- N')\n",
        "    plt.legend()\n",
        "    plt.show()"
      ],
      "execution_count": 16,
      "outputs": []
    },
    {
      "cell_type": "code",
      "metadata": {
        "colab": {
          "base_uri": "https://localhost:8080/",
          "height": 573
        },
        "id": "A-EwNgpTsw8v",
        "outputId": "5df5c128-c9ad-41d6-e284-cc72b784e475"
      },
      "source": [
        "task2()"
      ],
      "execution_count": 17,
      "outputs": [
        {
          "output_type": "display_data",
          "data": {
            "image/png": "[encoded data removed]",
            "text/plain": [
              "<Figure size 432x288 with 1 Axes>"
            ]
          },
          "metadata": {
            "needs_background": "light"
          }
        },
        {
          "output_type": "display_data",
          "data": {
            "image/png": "[encoded data removed]",
            "text/plain": [
              "<Figure size 432x288 with 1 Axes>"
            ]
          },
          "metadata": {
            "needs_background": "light"
          }
        }
      ]
    }
  ]
}