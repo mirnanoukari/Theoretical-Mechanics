{
  "nbformat": 4,
  "nbformat_minor": 2,
  "metadata": {
    "colab": {
      "name": "HW4 TM.ipynb",
      "provenance": []
    },
    "kernelspec": {
      "name": "python3",
      "display_name": "Python 3"
    },
    "language_info": {
      "name": "python"
    }
  },
  "cells": [
    {
      "cell_type": "markdown",
      "source": [
        "# Theoretical Mechanics \n",
        "### Home task of week 4 \n",
        "Created by: Mirna Alnoukari"
      ],
      "metadata": {
        "id": "DDCnx5jOSOPs"
      }
    },
    {
      "cell_type": "markdown",
      "source": [
        "## Task 1\n"
      ],
      "metadata": {
        "id": "yzWnDU4BS4Xu"
      }
    },
    {
      "cell_type": "code",
      "execution_count": 1,
      "source": [
        "import numpy as np\r\n",
        "import matplotlib.pyplot as plt\r\n",
        "import sys\r\n",
        "from math import sin, cos, tan, sqrt, asin, acos,pi\r\n",
        "\r\n",
        "def rad(theta):\r\n",
        "    return theta*np.pi/180\r\n",
        "\r\n",
        "def task1():\r\n",
        "    AQ = QB = SF = 2\r\n",
        "    AB = AQ + QB\r\n",
        "    BC = 3\r\n",
        "    CD = ES = 2.5\r\n",
        "    AD = AB + BC + CD\r\n",
        "    DE = 2\r\n",
        "    BE = BC + CD + DE\r\n",
        "    EF = ES + SF\r\n",
        "    AF = AB + BE + EF\r\n",
        "    \r\n",
        "    P1 = 12\r\n",
        "    P2 = 18\r\n",
        "    M1 = 36\r\n",
        "    q = 1.4\r\n",
        "    Fq = q*BE\r\n",
        "\r\n",
        "    theta = 45\r\n",
        "    comp_theta = rad(90-theta)\r\n",
        "    gamma = rad(60)\r\n",
        "\r\n",
        "    A = np.array([\r\n",
        "                    [-1, cos(comp_theta), 0, 0, 0],\r\n",
        "                    [0, sin(comp_theta), 1, 1, 1],\r\n",
        "                    [0, 0, AF, AB, AD],\r\n",
        "                    [0, 0, 0, AB, 0],\r\n",
        "                    [0, sin(comp_theta), 0, 1, 0]\r\n",
        "                 ])\r\n",
        "    B = np.array([\r\n",
        "                    P2*cos(gamma),\r\n",
        "                    Fq + P2*sin(gamma) + P2,\r\n",
        "                    M1 + P1*(AQ) + Fq*(BE/2+AB),\r\n",
        "                    q*BC*(BC/2+AB) + P1*AQ,\r\n",
        "                    q*BC + P1\r\n",
        "                 ])\r\n",
        "    sol = np.linalg.solve(A,B)\r\n",
        "    print(\"RA: {:}, \\nRBx: {:}, \\nRBy: {:}, \\nRDy=RD: {:}, \\nRF=RFy: {:}\".format(sol[1], sol[0], sol[3], sol[4], sol[2]))\r\n",
        "    \r\n",
        "task1()"
      ],
      "outputs": [
        {
          "output_type": "stream",
          "name": "stdout",
          "text": [
            "RA: 6.257895013500952, \n",
            "RBx: -4.574999999999997, \n",
            "RBy: 11.774999999999999, \n",
            "RDy=RD: 54.14466404460282, \n",
            "RF=RFy: -26.256206776482927\n"
          ]
        }
      ],
      "metadata": {
        "colab": {
          "base_uri": "https://localhost:8080/"
        },
        "id": "aUr-QakvMsoR",
        "outputId": "b64b8533-933a-4999-99a2-7c95342cabea"
      }
    },
    {
      "cell_type": "code",
      "execution_count": 8,
      "source": [
        "def task2():\r\n",
        "    G = 18\r\n",
        "    P = 30\r\n",
        "    a,b,c = 4, 4.5, 3.5\r\n",
        "\r\n",
        "    A = np.array([\r\n",
        "                    [0,0,0,0,0,1,0,0,-1,0,0,0],\r\n",
        "                    [0,0,1,0,0,1,0,0,0,0,0,0],\r\n",
        "                    [0,-a,0,-b,a,0,0,0,0,0,0,0],\r\n",
        "                    [0,0,0,0,0,1,0,0,1,0,0,0],\r\n",
        "                    [0,0,0,0,0,0,0,1,0,0,0,1],\r\n",
        "                    [0,0,0,0,b,0,-b,a,0,0,a,0],\r\n",
        "                    [0,0,1,0,0,1,0,0,0,0,0,-b/a],\r\n",
        "                    [b,-a,0,0,-a,0,0,0,0,0,b,0],\r\n",
        "                    [-1,0,0,-1,0,0,1,0,0,1,0,0],\r\n",
        "                    [0,1,0,0,-1,0,0,-1,0,0,1,0],\r\n",
        "                    [b,0,0,0,0,0,0,a,0,b,-a,0],\r\n",
        "                    [1,0,a/c,-1,0,a/c,1,0,0,1,0,0],\r\n",
        "                 ])\r\n",
        "    B = np.array([\r\n",
        "                    G/2-P*c/b,\r\n",
        "                    G/2,\r\n",
        "                    0,\r\n",
        "                    P*c/b+G/2,\r\n",
        "                    G/2,\r\n",
        "                    P*a,\r\n",
        "                    G/2,\r\n",
        "                    0,\r\n",
        "                    0,\r\n",
        "                    -P,\r\n",
        "                    P*a,\r\n",
        "                    G*a/(c*2)\r\n",
        "                 ])\r\n",
        "    sol = np.linalg.solve(A,B)\r\n",
        "    names = [\"R_alpha_x\", \"R_alpha_y\", \"R_alpha_z\",\r\n",
        "         \"R_beta_x\", \"R_beta_y\", \"R_beta_z\",\r\n",
        "         \"R_gamma_x\", \"R_gamma_y\", \"R_gamma_z\",\r\n",
        "         \"R_ksi_x\", \"R_ksi_y\", \"R_ksi_z\"]\r\n",
        "    for i,s in enumerate(sol):\r\n",
        "        print(\"{:}: {:},\".format(names[i],s))"
      ],
      "outputs": [],
      "metadata": {
        "id": "g1P3ZahbynTO"
      }
    }
  ]
}